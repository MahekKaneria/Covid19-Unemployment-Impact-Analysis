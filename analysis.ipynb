{
 "cells": [
  {
   "cell_type": "markdown",
   "id": "bc8d12b8",
   "metadata": {
    "deletable": false,
    "editable": false
   },
   "source": [
    "### Project Overview\n",
    "The initial stage of data analysis often hinges on the *collection* of relevant data. This project focuses on designing and executing a simple correlational study to explore potential relationships between variables of interest. The objective is to apply the scientific method to question whether observed circumstances are mere coincidences or indicative of deeper correlations.\n",
    "\n",
    "### Research Question\n",
    "The project seeks to investigate whether certain conditions or variables are associated with one another. Examples of such inquiries include:\n",
    "- Is there a relationship between increasing temperatures and higher air conditioner sales?\n",
    "- Does smoking correlate with an increased risk of cancer?\n",
    "\n",
    "### Methodology\n",
    "A correlational study was conducted to assess the relationship between selected variables. The following steps were undertaken:\n",
    "1. **Data Collection**: Relevant data was gathered based on the research question.\n",
    "2. **Hypothesis Formation**: A hypothesis was constructed to guide the analysis.\n",
    "3. **Data Analysis**: Statistical techniques were employed to analyze the data and identify potential correlations.\n",
    "\n",
    "### Results\n",
    "The findings from the correlational study will provide insights into the relationship between the variables studied. \n",
    "\n",
    "### Future Work\n",
    "Further experimentation could be designed based on the results of this correlational study to confirm any identified relationships and explore causality.\n",
    "\n",
    "### Technologies Used\n",
    "- Python\n",
    "- Jupyter Notebook\n",
    "- Data analysis libraries (e.g., Pandas, NumPy, Matplotlib)\n"
   ]
  },
  {
   "cell_type": "markdown",
   "id": "68f90e3a",
   "metadata": {
    "deletable": false,
    "editable": false
   },
   "source": [
    "### 1) Data Gathering"
   ]
  },
  {
   "cell_type": "markdown",
   "id": "de8ea169",
   "metadata": {
    "deletable": false,
    "editable": false
   },
   "source": [
    "### Variable Selection and Operational Definitions\n",
    "\n",
    "In this section, two quantitative variables are selected for analysis to explore their potential relationship. \n",
    "\n",
    "**Selected Variables**:\n",
    "1. **Variable 1: Monthly Edmonton COVID Cases**\n",
    "   - **Operational Definition**: This variable represents the total number of confirmed COVID-19 cases reported in Edmonton each month. \n",
    "   - **Type**: Independent Variable\n",
    "\n",
    "2. **Variable 2: Unemployment Rate in Edmonton**\n",
    "   - **Operational Definition**: This variable indicates the percentage of the workforce in Edmonton that is unemployed and actively seeking employment each month.\n",
    "   - **Type**: Dependent Variable\n",
    "\n",
    "**Data Sources**:\n",
    "- COVID data is sourced from [City of Edmonton COVID-19 Cumulative Case History](https://data.edmonton.ca/Community-Services/COVID-19-in-Edmonton-Cumulative-Case-History/mina-ycn3).\n",
    "- Unemployment data is sourced from [Edmonton Dashboard Unemployment Rate](https://dashboard.edmonton.ca/Dashboard/Unemployment-Rate-Edmonton-CMA/sgij-r32u).\n"
   ]
  },
  {
   "cell_type": "markdown",
   "id": "2e294666",
   "metadata": {},
   "source": [
    "### Rationale and Prediction\n",
    "\n",
    "The selection of Monthly Edmonton COVID Cases and Unemployment Rate in Edmonton stems from observations and discussions surrounding the impact of the COVID-19 pandemic on employment. Reports and news articles have highlighted how many individuals lost their jobs during lockdowns and how companies, shifting from office work to remote work, reduced their workforce to cut costs. Given the context that an increase in COVID cases often leads to stricter lockdown measures and reduced economic activity, it is reasonable to predict a correlation between these two variables. It is anticipated that as COVID cases rise, the unemployment rate will also increase, and vice-versa.\n"
   ]
  },
  {
   "cell_type": "markdown",
   "id": "e1f71ef6",
   "metadata": {
    "deletable": false,
    "editable": false
   },
   "source": [
    "### Data Collection and CSV File Creation\n",
    "\n",
    "In this section, sample data for Monthly Edmonton COVID Cases and Unemployment Rate in Edmonton has been collected and prepared for analysis. The daily COVID case data was converted to monthly data using Excel to facilitate comparison with unemployment data. \n",
    "\n",
    "The data was organized into two separate CSV files:\n",
    "- **Covid cases cleaned.csv**: Contains monthly confirmed COVID cases in Edmonton.\n",
    "- **Unemployment rate cleaned.csv**: Contains the unemployment rate in Edmonton.\n",
    "\n",
    "The following Python code reads the data from the CSV files, drops unnecessary columns, and filters the COVID data to align with the relevant time period."
   ]
  },
  {
   "cell_type": "code",
   "execution_count": 11,
   "id": "a04630bf",
   "metadata": {},
   "outputs": [
    {
     "data": {
      "text/html": [
       "<table border=\"1\" class=\"dataframe\">\n",
       "    <thead>\n",
       "        <tr>\n",
       "            <th>Month</th> <th>Year</th> <th>Date</th> <th>Confirmed Cases (Cumulative)</th>\n",
       "        </tr>\n",
       "    </thead>\n",
       "    <tbody>\n",
       "        <tr>\n",
       "            <td>March    </td> <td>2020</td> <td>2020-03</td> <td>78                          </td>\n",
       "        </tr>\n",
       "        <tr>\n",
       "            <td>April    </td> <td>2020</td> <td>2020-04</td> <td>400                         </td>\n",
       "        </tr>\n",
       "        <tr>\n",
       "            <td>May      </td> <td>2020</td> <td>2020-05</td> <td>499                         </td>\n",
       "        </tr>\n",
       "        <tr>\n",
       "            <td>June     </td> <td>2020</td> <td>2020-06</td> <td>796                         </td>\n",
       "        </tr>\n",
       "        <tr>\n",
       "            <td>July     </td> <td>2020</td> <td>2020-07</td> <td>1387                        </td>\n",
       "        </tr>\n",
       "        <tr>\n",
       "            <td>August   </td> <td>2020</td> <td>2020-08</td> <td>2489                        </td>\n",
       "        </tr>\n",
       "        <tr>\n",
       "            <td>September</td> <td>2020</td> <td>2020-09</td> <td>4336                        </td>\n",
       "        </tr>\n",
       "        <tr>\n",
       "            <td>October  </td> <td>2020</td> <td>2020-10</td> <td>7957                        </td>\n",
       "        </tr>\n",
       "        <tr>\n",
       "            <td>November </td> <td>2020</td> <td>2020-11</td> <td>17133                       </td>\n",
       "        </tr>\n",
       "        <tr>\n",
       "            <td>December </td> <td>2020</td> <td>2020-12</td> <td>37208                       </td>\n",
       "        </tr>\n",
       "    </tbody>\n",
       "</table>\n",
       "<p>... (9 rows omitted)</p>"
      ],
      "text/plain": [
       "Month     | Year | Date    | Confirmed Cases (Cumulative)\n",
       "March     | 2020 | 2020-03 | 78\n",
       "April     | 2020 | 2020-04 | 400\n",
       "May       | 2020 | 2020-05 | 499\n",
       "June      | 2020 | 2020-06 | 796\n",
       "July      | 2020 | 2020-07 | 1387\n",
       "August    | 2020 | 2020-08 | 2489\n",
       "September | 2020 | 2020-09 | 4336\n",
       "October   | 2020 | 2020-10 | 7957\n",
       "November  | 2020 | 2020-11 | 17133\n",
       "December  | 2020 | 2020-12 | 37208\n",
       "... (9 rows omitted)"
      ]
     },
     "execution_count": 11,
     "metadata": {},
     "output_type": "execute_result"
    }
   ],
   "source": [
    "from datascience import *\n",
    "import numpy as np\n",
    "\n",
    "import numpy as np\n",
    "#import math\n",
    "#from datascience import *\n",
    "\n",
    "#I have converted daily data from the orignal file to monthly data using Excel so that I can compare both the data\n",
    "covid = Table.read_table('Covid cases cleaned.csv')\n",
    "#This drops the unnecesary columns\n",
    "covid = covid.drop(\"Confirmed Cases: Daily Change\",\"Active Cases (As of Date)\",\"Recovered Cases (Cumulative)\",\"Deaths (Cumulative)\",\n",
    "                               \"In Hospital (As of Date)\",\"In Hospital: Daily Change\",\"In Intensive Care (As of Date)\",\"In Intensive Care: Daily Change\",\"Deaths: Daily Change\",\"Test Count: Edmonton\",\"Test Count: Alberta\",\"Test Percentage\",\"Test Positivity Rate\",\"Hospitalization Rate\",\"Rate of Cases: Edmonton\")\n",
    "#This removes the data to match the months of other data\n",
    "covid = covid.where(\"Confirmed Cases (Cumulative)\",are.between(0,99725))\n",
    "\n",
    "unemployment = Table.read_table('Unemployment rate cleaned.csv')\n",
    "unemployment = unemployment.drop(\"National Unemployment Rate\",\"Report Period\")\n",
    "covid\n",
    "\n",
    "\n",
    "\n",
    "\n"
   ]
  },
  {
   "cell_type": "markdown",
   "id": "a21a3987",
   "metadata": {
    "deletable": false,
    "editable": false
   },
   "source": [
    "### 2) Data Visualization"
   ]
  },
  {
   "cell_type": "markdown",
   "id": "fa5231e5",
   "metadata": {
    "deletable": false,
    "editable": false
   },
   "source": [
    "### Scatterplot of Monthly COVID Cases and Unemployment Rate\n",
    "\n",
    "To visualize the relationship between Monthly Edmonton COVID Cases and Unemployment Rate, a scatterplot has been created using Python tools. This plot allows for a visual examination of how the two variables relate to each other.\n",
    "\n",
    "The following Python code generates the scatterplot:"
   ]
  },
  {
   "cell_type": "code",
   "execution_count": 12,
   "id": "14d9a914",
   "metadata": {},
   "outputs": [
    {
     "data": {
      "image/png": "[encoded data removed]",
      "text/plain": [
       "<Figure size 640x480 with 1 Axes>"
      ]
     },
     "metadata": {},
     "output_type": "display_data"
    }
   ],
   "source": [
    "from datascience import *\n",
    "import numpy as np\n",
    "\n",
    "%matplotlib inline\n",
    "import matplotlib.pyplot as plots\n",
    "#plots.style.use('fivethirtyeight')\n",
    "\n",
    "import numpy as np\n",
    "import math\n",
    "from datascience import *\n",
    "\n",
    "\n",
    "x=covid.column(\"Confirmed Cases (Cumulative)\")\n",
    "y=unemployment.column(\"Unemployment Rate\")\n",
    "plots.scatter(x,y)\n",
    "plots.xlabel('Confirmed cases')\n",
    "plots.ylabel('Unemployment Rate')\n",
    "plots.title(\"Scatterplot between Confirmed Cases and Unemployment rate\")\n",
    "plots.show()\n",
    "\n",
    "\n"
   ]
  },
  {
   "cell_type": "markdown",
   "id": "4955671c",
   "metadata": {
    "deletable": false,
    "editable": false
   },
   "source": [
    "### 3) Data Statistics"
   ]
  },
  {
   "cell_type": "markdown",
   "id": "542161f3",
   "metadata": {
    "deletable": false,
    "editable": false
   },
   "source": [
    "### Sample Size Calculation\n",
    "\n",
    "To understand the amount of data being analyzed, the sample sizes of the Monthly Edmonton COVID Cases and Unemployment Rate datasets will be calculated and displayed. The following Python code retrieves the number of rows in each dataset:\n"
   ]
  },
  {
   "cell_type": "code",
   "execution_count": 13,
   "id": "10b85ab6",
   "metadata": {},
   "outputs": [
    {
     "name": "stdout",
     "output_type": "stream",
     "text": [
      "Sample size of covid cases data is 19\n",
      "Sample size of Unemployment rate data is 19\n"
     ]
    }
   ],
   "source": [
    "covid_rows = covid.num_rows\n",
    "unemployment_rows = unemployment.num_rows\n",
    "print(\"Sample size of covid cases data is\",covid_rows)\n",
    "print(\"Sample size of Unemployment rate data is\",unemployment_rows)"
   ]
  },
  {
   "cell_type": "markdown",
   "id": "16c52e54",
   "metadata": {
    "deletable": false,
    "editable": false
   },
   "source": [
    "### Mean Calculation of Monthly COVID Cases and Unemployment Rate\n",
    "\n",
    "Calculating the mean of both the Monthly Edmonton COVID Cases and the Unemployment Rate provides valuable insight into the average values of these variables. The following Python code computes the mean for each variable separately:\n"
   ]
  },
  {
   "cell_type": "code",
   "execution_count": 14,
   "id": "54694506",
   "metadata": {},
   "outputs": [
    {
     "name": "stdout",
     "output_type": "stream",
     "text": [
      "Mean of monthly covid cases in Edmonton is 36579.0\n",
      "Mean of unemployment rate in Edmonton is 11.37\n"
     ]
    }
   ],
   "source": [
    "covid_cases = covid.column(\"Confirmed Cases (Cumulative)\")\n",
    "unemployment_rate = unemployment.column(\"Unemployment Rate\")\n",
    "print(\"Mean of monthly covid cases in Edmonton is\",np.mean(covid_cases))\n",
    "print(\"Mean of unemployment rate in Edmonton is\",round(np.mean(unemployment_rate),2))\n"
   ]
  },
  {
   "cell_type": "markdown",
   "id": "7b3bfd31",
   "metadata": {
    "deletable": false,
    "editable": false
   },
   "source": [
    "### Median Calculation of Monthly COVID Cases and Unemployment Rate\n",
    "\n",
    "Calculating the median of the Monthly Edmonton COVID Cases and the Unemployment Rate offers a robust measure of central tendency that is less affected by outliers. The following Python code computes the median for each variable separately:"
   ]
  },
  {
   "cell_type": "code",
   "execution_count": 15,
   "id": "d1e3b034",
   "metadata": {},
   "outputs": [
    {
     "name": "stdout",
     "output_type": "stream",
     "text": [
      "Median of monthly covid cases in Edmonton is 37208.0\n",
      "Median of unemployment rate in Edmonton is 11.0\n"
     ]
    }
   ],
   "source": [
    "print(\"Median of monthly covid cases in Edmonton is\",np.median(covid_cases))\n",
    "print(\"Median of unemployment rate in Edmonton is\",np.median(unemployment_rate))"
   ]
  },
  {
   "cell_type": "markdown",
   "id": "1d5a6fe4",
   "metadata": {
    "deletable": false,
    "editable": false
   },
   "source": [
    "### Variance Calculation of Monthly COVID Cases and Unemployment Rate\n",
    "\n",
    "The variance of a dataset provides insight into the spread or dispersion of the values around the mean. Calculating the variance for both the Monthly Edmonton COVID Cases and the Unemployment Rate can help understand the variability in these datasets. The following Python code computes the variance for each variable separately:"
   ]
  },
  {
   "cell_type": "code",
   "execution_count": 16,
   "id": "0ff32f13",
   "metadata": {},
   "outputs": [
    {
     "name": "stdout",
     "output_type": "stream",
     "text": [
      "Variance of monthly covid cases in Edmonton is 1110577431.58\n",
      "Variance of unemployment rate in Edmonton is 5.18\n"
     ]
    }
   ],
   "source": [
    "print(\"Variance of monthly covid cases in Edmonton is\",round(np.var(covid_cases),2))\n",
    "print(\"Variance of unemployment rate in Edmonton is\",round(np.var(unemployment_rate),2))"
   ]
  },
  {
   "cell_type": "markdown",
   "id": "902e359c",
   "metadata": {
    "deletable": false,
    "editable": false
   },
   "source": [
    "### Standard Deviation Calculation of Monthly COVID Cases and Unemployment Rate\n",
    "\n",
    "The standard deviation is a key statistic that measures the amount of variation or dispersion of a set of values. Calculating the standard deviation for the Monthly Edmonton COVID Cases and the Unemployment Rate provides further insight into the consistency of these datasets. The following Python code computes the standard deviation for each variable separately:\n"
   ]
  },
  {
   "cell_type": "code",
   "execution_count": 17,
   "id": "09ded97c",
   "metadata": {},
   "outputs": [
    {
     "name": "stdout",
     "output_type": "stream",
     "text": [
      "Standard deviation of monthly covid cases in Edmonton is 33325.33\n",
      "Standard deviation of unemployment rate in Edmonton is 2.28\n"
     ]
    }
   ],
   "source": [
    "print(\"Standard deviation of monthly covid cases in Edmonton is\",round(np.std(covid_cases),2))\n",
    "print(\"Standard deviation of unemployment rate in Edmonton is\",round(np.std(unemployment_rate),2))"
   ]
  },
  {
   "cell_type": "markdown",
   "id": "340da268",
   "metadata": {
    "deletable": false,
    "editable": false
   },
   "source": [
    "### Sum of Squared Deviations Calculation of Monthly COVID Cases and Unemployment Rate\n",
    "\n",
    "The sum of squared deviations is an important statistic that quantifies the total variance in a dataset. It is calculated by multiplying the variance by the degrees of freedom (which is the sample size minus one). The following Python code computes the sum of squared deviations for both the Monthly Edmonton COVID Cases and the Unemployment Rate:"
   ]
  },
  {
   "cell_type": "code",
   "execution_count": 18,
   "id": "a2a13856",
   "metadata": {},
   "outputs": [
    {
     "name": "stdout",
     "output_type": "stream",
     "text": [
      "Sum of squared deviations of covid cases in Edmonton is 19990393768.4\n",
      "Sum of squared deviations of unemployment rate in Edmonton is 93.24\n"
     ]
    }
   ],
   "source": [
    "sum_of_sq_covid= np.var(covid_cases)*(len(covid_cases)-1)\n",
    "sum_of_sq_unemployment = np.var(unemployment_rate)*(len(unemployment_rate)-1)\n",
    "print(\"Sum of squared deviations of covid cases in Edmonton is\",round(sum_of_sq_covid,2))\n",
    "print(\"Sum of squared deviations of unemployment rate in Edmonton is\", round(sum_of_sq_unemployment,2))"
   ]
  },
  {
   "cell_type": "markdown",
   "id": "0407ca06",
   "metadata": {},
   "source": [
    "### Conclusion\n",
    "\n",
    "This study analyzed the relationship between monthly COVID-19 cases in Edmonton and the unemployment rate throughout the pandemic. The initial hypothesis suggested that an increase in COVID cases would correlate with a rise in unemployment. This prediction was substantiated by the analysis, particularly during the early phase of the pandemic, where a clear correlation between the two variables was observed. The scatter plot illustrated a positive trend, indicating that as COVID cases surged, the unemployment rate similarly increased.\n",
    "\n",
    "As the pandemic evolved, however, the dynamics changed. The unemployment rate began to decrease as society adapted to remote work and developed effective strategies to manage COVID-19. This recovery reflects the resilience and adaptability of both individuals and organizations in the face of unprecedented challenges. The analysis suggests that while a relationship exists between the two variables, it is not strictly linear; external factors and adaptive behaviors played significant roles in shaping the observed trends.\n",
    "\n",
    "### Reports and Findings\n",
    "\n",
    "1. **Data Overview**: \n",
    "   The dataset comprised monthly counts of COVID-19 cases and unemployment rates in Edmonton. The data revealed that COVID cases steadily increased throughout the pandemic, while the unemployment rate exhibited a notable spike followed by a gradual decline. This suggests that while the pandemic initially led to job losses, recovery followed as the community adapted.\n",
    "\n",
    "2. **Scatterplot Analysis**:\n",
    "   The scatterplot demonstrated a clear relationship between the two variables in the early stages of the pandemic. As COVID cases increased, unemployment rates also rose. However, the latter part of the scatterplot revealed a divergence, where unemployment rates began to stabilize and decrease despite continuing fluctuations in COVID cases.\n",
    "\n",
    "3. **Statistical Measures**:\n",
    "   Statistical analysis revealed a mean of monthly COVID cases and unemployment rates, with variance and standard deviation calculations indicating variability in both datasets. The sum of squared deviations further illustrated the dispersion of data points, reinforcing the findings of correlation and the need for deeper analysis.\n",
    "\n",
    "4. **Confounding Variables**:\n",
    "   While the study did not identify significant confounding variables affecting both the unemployment rate and COVID cases, it acknowledged that factors such as the rise of online businesses and shifts in the job market due to remote work may have impacted each variable independently.\n",
    "\n",
    "5. **Causal Relationship**:\n",
    "   The study concluded that a causal relationship exists between COVID cases and the unemployment rate, particularly in the initial phase of the pandemic. As evidenced by the data from 2019, fluctuations in these variables were linked, highlighting the impact of public health crises on economic conditions.\n",
    "\n",
    "6. **Implications**:\n",
    "   The findings underscore the importance of data analysis in understanding complex societal dynamics. Policymakers and stakeholders can utilize these insights to develop strategies for managing future public health crises and mitigating their economic impacts.\n",
    "\n",
    "### Future Work\n",
    "\n",
    "Future research could expand on this study by exploring additional factors that may influence the relationship between public health metrics and economic indicators. Longitudinal studies that incorporate more extensive datasets and consider geographical variations may provide deeper insights into these dynamics. Additionally, examining the effects of government interventions and support programs during the pandemic could further illuminate the relationship between health and economic outcomes.\n"
   ]
  }
 ],
 "metadata": {
  "celltoolbar": "Edit Metadata",
  "kernelspec": {
   "display_name": "Python 3 (ipykernel)",
   "language": "python",
   "name": "python3"
  },
  "language_info": {
   "codemirror_mode": {
    "name": "ipython",
    "version": 3
   },
   "file_extension": ".py",
   "mimetype": "text/x-python",
   "name": "python",
   "nbconvert_exporter": "python",
   "pygments_lexer": "ipython3",
   "version": "3.12.3"
  }
 },
 "nbformat": 4,
 "nbformat_minor": 5
}
